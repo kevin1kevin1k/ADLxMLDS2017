{
 "cells": [
  {
   "cell_type": "markdown",
   "metadata": {},
   "source": [
    "\n",
    "# TODO\n",
    "\n",
    "~~read test files~~\n",
    "\n",
    "do normalization separately for fbank and mfcc?\n",
    "\n",
    "~~padding~~\n",
    "\n",
    "~~Use 48 for training and map after prediction~~\n",
    "\n",
    "outliers?\n",
    "\n",
    "~~adam?~~\n",
    "\n",
    "use custom metric (edit distance)\n",
    "\n",
    "~~BLSTM~~\n",
    "\n",
    "~~monitor for modelcheckpoint and earlystopping~~\n",
    "\n",
    "~~no validation?~~\n",
    "\n",
    "~~Add padding as 40th class?~~\n",
    "\n",
    "~~dropout / recurrent dropout~~\n",
    "\n",
    "~~move dropout into LSTM~~\n",
    "\n",
    "~~RNN-CNN~~\n",
    "\n",
    "~~ensemble~~\n",
    "\n",
    "~~ReLU inside LSTM~~\n",
    "\n",
    "~~better squeezing method~~\n",
    "\n",
    "batch normalization?\n",
    "\n",
    "**observe data (esp. labels)**"
   ]
  },
  {
   "cell_type": "code",
   "execution_count": null,
   "metadata": {},
   "outputs": [],
   "source": [
    "import numpy as np\n",
    "np.random.seed(666)\n",
    "from utils import *\n",
    "\n",
    "# # GPU usage\n",
    "# import tensorflow as tf\n",
    "# from keras.backend.tensorflow_backend import set_session\n",
    "# config = tf.ConfigProto()\n",
    "# config.gpu_options.per_process_gpu_memory_fraction = 0.6\n",
    "# set_session(tf.Session(config=config))"
   ]
  },
  {
   "cell_type": "code",
   "execution_count": null,
   "metadata": {},
   "outputs": [],
   "source": [
    "sentence2frames = dict()\n",
    "read_ark(DATA_PATH + 'fbank/train.ark', sentence2frames)\n",
    "read_ark(DATA_PATH + 'mfcc/train.ark', sentence2frames)\n",
    "\n",
    "# number of training sentences\n",
    "NUM_SENTENCES = len(sentence2frames)\n",
    "print(NUM_SENTENCES)\n",
    "\n",
    "# number of frames in this sentence\n",
    "print(len(sentence2frames['faem0_si1392']))\n",
    "\n",
    "# number of fbank+mfcc features in a frame\n",
    "print(len(sentence2frames['faem0_si1392'][0]))\n",
    "\n",
    "# first feature\n",
    "print(sentence2frames['faem0_si1392'][0][0])"
   ]
  },
  {
   "cell_type": "code",
   "execution_count": null,
   "metadata": {},
   "outputs": [],
   "source": [
    "sentence2labels = dict()\n",
    "read_label(DATA_PATH + 'label/train.lab', sentence2labels)\n",
    "\n",
    "# number of training sentences\n",
    "print(len(sentence2labels))\n",
    "\n",
    "# number of frames in this sentence\n",
    "print(len(sentence2labels['faem0_si1392']))\n",
    "\n",
    "# first label\n",
    "print(sentence2labels['faem0_si1392'][0])"
   ]
  },
  {
   "cell_type": "code",
   "execution_count": null,
   "metadata": {},
   "outputs": [],
   "source": [
    "sentences = sorted(sentence2labels)\n",
    "X = np.zeros((NUM_SENTENCES, MAX_SENTENCE_LEN, FEATURE_LEN))\n",
    "y = np.zeros((NUM_SENTENCES, MAX_SENTENCE_LEN, NUM_CLASSES))\n",
    "\n",
    "for i, s in enumerate(sentences):\n",
    "    frames = sentence2frames[s]\n",
    "    X[i, :len(frames)] = frames\n",
    "    y[i, :len(frames)] = np.stack([one_hot(NUM_CLASSES, l) for l in sentence2labels[s]])\n",
    "\n",
    "print(X.shape)\n",
    "print(y.shape)"
   ]
  },
  {
   "cell_type": "code",
   "execution_count": null,
   "metadata": {},
   "outputs": [],
   "source": [
    "# model = build_model(summary=True)\n",
    "model = build_cnn_rnn_model(summary=True)"
   ]
  },
  {
   "cell_type": "code",
   "execution_count": null,
   "metadata": {},
   "outputs": [],
   "source": [
    "monitor = 'loss'\n",
    "model_filepath = MODEL_PATH + 'model_{monitor}'.format(monitor=monitor) + '_{epoch:03d}_{loss:.4f}_mapafter_recurrent_dropout_0.1_2lstm.h5'\n",
    "checkpoint = ModelCheckpoint(model_filepath, monitor=monitor, verbose=0, save_best_only=True)\n",
    "# earlystop = EarlyStopping(monitor=monitor, patience=2, verbose=0)\n",
    "model.fit(X, y, batch_size=BATCH_SIZE, epochs=NUM_EPOCHS, verbose=1, callbacks=[checkpoint])"
   ]
  },
  {
   "cell_type": "code",
   "execution_count": null,
   "metadata": {},
   "outputs": [],
   "source": [
    "# 3, 32\n",
    "# 3696/3696 [==============================] - 173s - loss: 1.2738 - acc: 0.0767   \n",
    "\n",
    "# 5, 64\n",
    "# 3696/3696 [==============================] - 174s - loss: 1.1219 - acc: 0.1098   \n",
    "\n",
    "# 3, 64\n",
    "# 3696/3696 [==============================] - 171s - loss: 1.1075 - acc: 0.1081   \n",
    "\n",
    "# 5, 32\n",
    "# 3696/3696 [==============================] - 174s - loss: 1.0787 - acc: 0.1140   "
   ]
  }
 ],
 "metadata": {
  "kernelspec": {
   "display_name": "Python 3",
   "language": "python",
   "name": "python3"
  },
  "language_info": {
   "codemirror_mode": {
    "name": "ipython",
    "version": 3
   },
   "file_extension": ".py",
   "mimetype": "text/x-python",
   "name": "python",
   "nbconvert_exporter": "python",
   "pygments_lexer": "ipython3",
   "version": "3.5.2"
  }
 },
 "nbformat": 4,
 "nbformat_minor": 2
}
