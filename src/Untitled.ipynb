{
 "cells": [
  {
   "cell_type": "markdown",
   "metadata": {},
   "source": [
    "\n",
    "# TODO\n",
    "\n",
    "read test files\n",
    "\n",
    "do normalization separately for fbank and mfcc?\n",
    "\n",
    "padding\n",
    "\n",
    "now I first map 48->39. Maybe use 48 for training and map after prediction?\n",
    "\n",
    "outliers?"
   ]
  },
  {
   "cell_type": "code",
   "execution_count": 1,
   "metadata": {},
   "outputs": [],
   "source": [
    "import numpy as np"
   ]
  },
  {
   "cell_type": "code",
   "execution_count": 2,
   "metadata": {},
   "outputs": [
    {
     "name": "stdout",
     "output_type": "stream",
     "text": [
      "CPU times: user 34.5 s, sys: 840 ms, total: 35.4 s\n",
      "Wall time: 35.4 s\n"
     ]
    }
   ],
   "source": [
    "%%time\n",
    "\n",
    "sentence2frames = dict()\n",
    "\n",
    "def read_ark(filepath):\n",
    "    with open(filepath) as train_ark_f:\n",
    "        last_sentence = ''\n",
    "        frames = list()\n",
    "        is_first_line = True\n",
    "        for line in train_ark_f:\n",
    "            line = line.strip().split()\n",
    "            instance_id = line[0]\n",
    "            speaker_id, sentence_id, frame_id = instance_id.split('_')\n",
    "            sentence = '_'.join((speaker_id, sentence_id))\n",
    "            features = list(map(float, line[1:]))\n",
    "\n",
    "            if sentence != last_sentence and not is_first_line:\n",
    "                if last_sentence not in sentence2frames:\n",
    "                    sentence2frames[last_sentence] = frames\n",
    "                else:\n",
    "                    sentence2frames[last_sentence] = np.concatenate(\n",
    "                        (sentence2frames[last_sentence], frames),\n",
    "                        axis=1\n",
    "                    )\n",
    "                frames = list()\n",
    "\n",
    "            last_sentence = sentence\n",
    "            frames.append(features)\n",
    "            is_first_line = False\n",
    "\n",
    "        # process last sentence\n",
    "        if last_sentence not in sentence2frames:\n",
    "            sentence2frames[last_sentence] = frames\n",
    "        else:\n",
    "            sentence2frames[last_sentence] = np.concatenate(\n",
    "                (sentence2frames[last_sentence], frames),\n",
    "                axis=1\n",
    "            )\n",
    "        frames = list()\n",
    "\n",
    "read_ark('../data/fbank/train.ark')\n",
    "read_ark('../data/mfcc/train.ark')"
   ]
  },
  {
   "cell_type": "code",
   "execution_count": 3,
   "metadata": {},
   "outputs": [
    {
     "name": "stdout",
     "output_type": "stream",
     "text": [
      "3696\n",
      "474\n",
      "108\n",
      "3.148541\n"
     ]
    }
   ],
   "source": [
    "# number of training sentences\n",
    "print(len(sentence2frames))\n",
    "\n",
    "# number of frames in this sentence\n",
    "print(len(sentence2frames['faem0_si1392']))\n",
    "\n",
    "# number of fbank+mfcc features in a frame\n",
    "print(len(sentence2frames['faem0_si1392'][0]))\n",
    "\n",
    "# first feature\n",
    "print(sentence2frames['faem0_si1392'][0][0])"
   ]
  },
  {
   "cell_type": "code",
   "execution_count": 4,
   "metadata": {},
   "outputs": [],
   "source": [
    "phone48_phone39 = dict()\n",
    "phone48_char48 = dict()\n",
    "\n",
    "with open('../data/phones/48_39.map') as phone48_phone39_f:\n",
    "    for line in phone48_phone39_f:\n",
    "        phone48, phone39 = line.strip().split('\\t')\n",
    "        phone48_phone39[phone48] = phone39\n",
    "\n",
    "with open('../data/48phone_char.map') as phone48_char48_f:\n",
    "    for line in phone48_char48_f:\n",
    "        phone48, index, char48 = line.strip().split('\\t')\n",
    "        phone48_char48[phone48] = char48"
   ]
  },
  {
   "cell_type": "code",
   "execution_count": 5,
   "metadata": {},
   "outputs": [
    {
     "name": "stdout",
     "output_type": "stream",
     "text": [
      "CPU times: user 896 ms, sys: 12 ms, total: 908 ms\n",
      "Wall time: 877 ms\n"
     ]
    }
   ],
   "source": [
    "%%time\n",
    "\n",
    "sentence2labels = dict()\n",
    "\n",
    "def read_label(filepath):\n",
    "    with open(filepath) as train_lab_f:\n",
    "        last_sentence = ''\n",
    "        labels = list()\n",
    "        is_first_line = True\n",
    "        \n",
    "        for line in train_lab_f:\n",
    "            instance_id, label = line.strip().split(',')\n",
    "            speaker_id, sentence_id, frame_id = instance_id.split('_')\n",
    "            sentence = '_'.join((speaker_id, sentence_id))\n",
    "            char = phone48_char48[phone48_phone39[label]]\n",
    "\n",
    "            if sentence != last_sentence and not is_first_line:\n",
    "                sentence2labels[last_sentence] = labels\n",
    "                labels = list()\n",
    "\n",
    "            last_sentence = sentence\n",
    "            labels.append(char)\n",
    "            is_first_line = False\n",
    "\n",
    "        # process last sentence\n",
    "        sentence2labels[last_sentence] = labels\n",
    "        labels = list()\n",
    "\n",
    "read_label('../data/label/train.lab')"
   ]
  },
  {
   "cell_type": "code",
   "execution_count": 6,
   "metadata": {},
   "outputs": [
    {
     "name": "stdout",
     "output_type": "stream",
     "text": [
      "3696\n",
      "474\n",
      "L\n"
     ]
    }
   ],
   "source": [
    "# number of training sentences\n",
    "print(len(sentence2labels))\n",
    "\n",
    "# number of frames in this sentence\n",
    "print(len(sentence2labels['faem0_si1392']))\n",
    "\n",
    "# first label\n",
    "print(sentence2labels['faem0_si1392'][0])"
   ]
  },
  {
   "cell_type": "code",
   "execution_count": null,
   "metadata": {},
   "outputs": [],
   "source": []
  }
 ],
 "metadata": {
  "kernelspec": {
   "display_name": "Python 3",
   "language": "python",
   "name": "python3"
  },
  "language_info": {
   "codemirror_mode": {
    "name": "ipython",
    "version": 3
   },
   "file_extension": ".py",
   "mimetype": "text/x-python",
   "name": "python",
   "nbconvert_exporter": "python",
   "pygments_lexer": "ipython3",
   "version": "3.5.2"
  }
 },
 "nbformat": 4,
 "nbformat_minor": 2
}
