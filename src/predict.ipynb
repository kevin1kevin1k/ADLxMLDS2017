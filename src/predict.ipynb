{
 "cells": [
  {
   "cell_type": "code",
   "execution_count": null,
   "metadata": {},
   "outputs": [],
   "source": [
    "import numpy as np\n",
    "np.random.seed(666)\n",
    "import keras\n",
    "import arrow\n",
    "import sys\n",
    "model_path = '../models/mapafter_recurrent_dropout_0.1_2lstm/model_loss_039_0.2214_mapafter_recurrent_dropout_0.1_2lstm.h5'\n",
    "from utils import *"
   ]
  },
  {
   "cell_type": "code",
   "execution_count": null,
   "metadata": {},
   "outputs": [],
   "source": [
    "sentence2frames_test = dict()\n",
    "read_ark(DATA_PATH + 'fbank/test.ark', sentence2frames_test)\n",
    "read_ark(DATA_PATH + 'mfcc/test.ark', sentence2frames_test)"
   ]
  },
  {
   "cell_type": "code",
   "execution_count": null,
   "metadata": {},
   "outputs": [],
   "source": [
    "# number of testing sentences\n",
    "NUM_SENTENCES_TEST = len(sentence2frames_test)\n",
    "print(NUM_SENTENCES_TEST)"
   ]
  },
  {
   "cell_type": "code",
   "execution_count": null,
   "metadata": {},
   "outputs": [],
   "source": [
    "sentences_test = sorted(sentence2frames_test)\n",
    "X_test = np.zeros((NUM_SENTENCES_TEST, MAX_SENTENCE_LEN, FEATURE_LEN))\n",
    "\n",
    "for i, s in enumerate(sentences_test):\n",
    "    frames = sentence2frames_test[s]\n",
    "    X_test[i, :len(frames)] = frames\n",
    "\n",
    "print(X_test.shape)"
   ]
  },
  {
   "cell_type": "code",
   "execution_count": null,
   "metadata": {},
   "outputs": [],
   "source": [
    "model = keras.models.load_model(model_path)\n",
    "y_predict = model.predict(X_test)\n",
    "y_predict = np.argmax(y_predict, axis=-1)\n",
    "\n",
    "print(y_predict.shape)"
   ]
  },
  {
   "cell_type": "code",
   "execution_count": null,
   "metadata": {},
   "outputs": [],
   "source": [
    "# char48_phone48 = {}\n",
    "# for p in phone48_char48:\n",
    "#     c = phone48_char48[p]\n",
    "#     char48_phone48[c] = p\n",
    "\n",
    "# sample = 'aaabcaecggggghgL'\n",
    "# # print(sample)\n",
    "# sample = [phone48_int48[char48_phone48[c]] for c in sample]\n",
    "# decode_by_mode(sample)\n",
    "\n",
    "# # print(y_predict[0])\n",
    "# decode_by_mode(y_predict[0])"
   ]
  },
  {
   "cell_type": "code",
   "execution_count": null,
   "metadata": {},
   "outputs": [],
   "source": [
    "y_predict = list(map(decode_by_mode, y_predict))\n",
    "\n",
    "time = arrow.now('Asia/Taipei').format('YYYYMMDD_HHmmss')\n",
    "prediction_filepath = PREDICTION_PATH + 'prediction_{time}.csv'.format(time=time)\n",
    "with open(prediction_filepath, 'w') as prediction_f:\n",
    "    prediction_f.write('id,phone_sequence\\n')\n",
    "    for i, sentence in enumerate(sentences_test):\n",
    "        prediction_f.write('{id},{y}\\n'.format(id=sentence, y=y_predict[i]))"
   ]
  }
 ],
 "metadata": {
  "kernelspec": {
   "display_name": "Python 3",
   "language": "python",
   "name": "python3"
  },
  "language_info": {
   "codemirror_mode": {
    "name": "ipython",
    "version": 3
   },
   "file_extension": ".py",
   "mimetype": "text/x-python",
   "name": "python",
   "nbconvert_exporter": "python",
   "pygments_lexer": "ipython3",
   "version": "3.5.2"
  }
 },
 "nbformat": 4,
 "nbformat_minor": 2
}
