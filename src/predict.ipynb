{
 "cells": [
  {
   "cell_type": "code",
   "execution_count": null,
   "metadata": {},
   "outputs": [],
   "source": [
    "import numpy as np\n",
    "np.random.seed(666)\n",
    "import keras\n",
    "import arrow\n",
    "from utils import *"
   ]
  },
  {
   "cell_type": "code",
   "execution_count": null,
   "metadata": {},
   "outputs": [],
   "source": [
    "sentence2frames_test = dict()\n",
    "read_ark(DATA_PATH + 'fbank/test.ark', sentence2frames_test)\n",
    "read_ark(DATA_PATH + 'mfcc/test.ark', sentence2frames_test)"
   ]
  },
  {
   "cell_type": "code",
   "execution_count": null,
   "metadata": {},
   "outputs": [],
   "source": [
    "# number of testing sentences\n",
    "NUM_SENTENCES_TEST = len(sentence2frames_test)\n",
    "print(NUM_SENTENCES_TEST)"
   ]
  },
  {
   "cell_type": "code",
   "execution_count": null,
   "metadata": {},
   "outputs": [],
   "source": [
    "sentences_test = sorted(sentence2frames_test)\n",
    "X_test = np.zeros((NUM_SENTENCES_TEST, MAX_SENTENCE_LEN, FEATURE_LEN))\n",
    "\n",
    "for i, s in enumerate(sentences_test):\n",
    "    frames = sentence2frames_test[s]\n",
    "    X_test[i, :len(frames)] = frames\n",
    "\n",
    "print(X_test.shape)"
   ]
  },
  {
   "cell_type": "code",
   "execution_count": null,
   "metadata": {},
   "outputs": [],
   "source": [
    "def predict_single_model():\n",
    "    import sys\n",
    "    model_path = sys.argv[1]\n",
    "\n",
    "    model = keras.models.load_model(model_path)\n",
    "    y_predict = model.predict(X_test)\n",
    "    y_predict = np.argmax(y_predict, axis=-1)\n",
    "    print(y_predict.shape)\n",
    "    return y_predict\n",
    "\n",
    "def predict_ensemble():\n",
    "    import os\n",
    "    model_paths = os.listdir('../models/ensemble/')\n",
    "\n",
    "    y_predict = np.zeros([NUM_SENTENCES_TEST, MAX_SENTENCE_LEN, NUM_CLASSES])\n",
    "    for model_path in model_paths:\n",
    "        model = keras.models.load_model('../models/' + model_path)\n",
    "        y_predict += model.predict(X_test)\n",
    "        print(model_path)\n",
    "\n",
    "    y_predict = np.argmax(y_predict, axis=-1)\n",
    "    print(y_predict.shape)\n",
    "    return y_predict"
   ]
  },
  {
   "cell_type": "code",
   "execution_count": null,
   "metadata": {},
   "outputs": [],
   "source": [
    "# y_predict = predict_single_model()\n",
    "y_predict = predict_ensemble()"
   ]
  },
  {
   "cell_type": "code",
   "execution_count": null,
   "metadata": {},
   "outputs": [],
   "source": [
    "hist = {}\n",
    "\n",
    "def mode_history(seq):\n",
    "    count = {}\n",
    "    for i in seq:\n",
    "        if i not in count:\n",
    "            count[i] = 1\n",
    "        else:\n",
    "            count[i] += 1\n",
    "    mode = max(count.values())\n",
    "    candidates = [i for i in count if count[i] == mode]\n",
    "    winner = None\n",
    "    winner_tuple = None\n",
    "    for c in candidates:\n",
    "        if winner is None or (c in hist and hist[c] > winner_tuple):\n",
    "            winner = c\n",
    "            if c not in hist:\n",
    "                hist[c] = (0, 0)\n",
    "            winner_tuple = hist[c]\n",
    "    if winner not in hist:\n",
    "        hist[winner] = (1, mode)\n",
    "    else:\n",
    "        t = hist[winner]\n",
    "        hist[winner] = (t[0] + 1, t[1] + mode)\n",
    "    \n",
    "    return winner\n",
    "\n",
    "\n",
    "def decode_by_mode_history(seq):\n",
    "    L = len(seq)\n",
    "    sil = phone48_int48['sil']\n",
    "    \n",
    "    # trim leading sil\n",
    "    for i in range(L):\n",
    "        if seq[i] != sil:\n",
    "            break\n",
    "    start = i\n",
    "\n",
    "    # trim trailing sil\n",
    "    is_sil = False\n",
    "    for i in range(L - 1, -1, -1):\n",
    "        if is_sil:\n",
    "            if seq[i] != sil:\n",
    "                break\n",
    "        else:\n",
    "            if seq[i] == sil:\n",
    "                is_sil = True\n",
    "    end = i + 1\n",
    "    \n",
    "    trimmed = [phone48_char48[phone48_phone39[int48_phone48[i]]] for i in seq[start:end]]\n",
    "    \n",
    "    T = len(trimmed)\n",
    "    modes = ''\n",
    "    left = 3\n",
    "    right = 3\n",
    "    for i in range(T):\n",
    "        l, r = max(0, i - left), min(T - 1, i + right)\n",
    "        modes += mode_history(trimmed[l:r+1])[0]\n",
    "    return ''.join([k for k, v in itertools.groupby(modes)])"
   ]
  },
  {
   "cell_type": "code",
   "execution_count": null,
   "metadata": {},
   "outputs": [],
   "source": [
    "y_predict_decoded = list(map(decode_by_mode_history, y_predict))\n",
    "\n",
    "time = arrow.now('Asia/Taipei').format('YYYYMMDD_HHmmss')\n",
    "prediction_filepath = PREDICTION_PATH + 'prediction_{time}.csv'.format(time=time)\n",
    "with open(prediction_filepath, 'w') as prediction_f:\n",
    "    prediction_f.write('id,phone_sequence\\n')\n",
    "    for i, sentence in enumerate(sentences_test):\n",
    "        prediction_f.write('{id},{y}\\n'.format(id=sentence, y=y_predict_decoded[i]))"
   ]
  }
 ],
 "metadata": {
  "kernelspec": {
   "display_name": "Python 3",
   "language": "python",
   "name": "python3"
  },
  "language_info": {
   "codemirror_mode": {
    "name": "ipython",
    "version": 3
   },
   "file_extension": ".py",
   "mimetype": "text/x-python",
   "name": "python",
   "nbconvert_exporter": "python",
   "pygments_lexer": "ipython3",
   "version": "3.5.2"
  }
 },
 "nbformat": 4,
 "nbformat_minor": 2
}
