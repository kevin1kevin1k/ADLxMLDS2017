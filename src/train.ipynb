{
 "cells": [
  {
   "cell_type": "markdown",
   "metadata": {},
   "source": [
    "\n",
    "# TODO\n",
    "\n",
    "~~read test files~~\n",
    "\n",
    "do normalization separately for fbank and mfcc?\n",
    "\n",
    "~~padding~~\n",
    "\n",
    "~~Use 48 for training and map after prediction~~\n",
    "\n",
    "outliers?\n",
    "\n",
    "adam?\n",
    "\n",
    "use custom metric (edit distance)\n",
    "\n",
    "~~BLSTM~~\n",
    "\n",
    "~~monitor for modelcheckpoint and earlystopping~~\n",
    "\n",
    "~~no validation?~~\n",
    "\n",
    "Add padding as 40th class?\n",
    "\n",
    "~~dropout / recurrent dropout~~\n",
    "\n",
    "move dropout into LSTM\n",
    "\n",
    "RNN-CNN\n",
    "\n",
    "ensemble\n",
    "\n",
    "~~ReLU inside LSTM~~\n",
    "\n",
    "better squeezing method\n",
    "\n",
    "batch normalization?\n",
    "\n",
    "**observe data (esp. labels)**"
   ]
  },
  {
   "cell_type": "code",
   "execution_count": null,
   "metadata": {},
   "outputs": [],
   "source": [
    "import numpy as np\n",
    "np.random.seed(666)\n",
    "from utils import *\n",
    "\n",
    "# # GPU usage\n",
    "# import tensorflow as tf\n",
    "# from keras.backend.tensorflow_backend import set_session\n",
    "# config = tf.ConfigProto()\n",
    "# config.gpu_options.per_process_gpu_memory_fraction = 0.6\n",
    "# set_session(tf.Session(config=config))"
   ]
  },
  {
   "cell_type": "code",
   "execution_count": null,
   "metadata": {},
   "outputs": [],
   "source": [
    "sentence2frames = dict()\n",
    "read_ark(DATA_PATH + 'fbank/train.ark', sentence2frames)\n",
    "read_ark(DATA_PATH + 'mfcc/train.ark', sentence2frames)\n",
    "\n",
    "# number of training sentences\n",
    "NUM_SENTENCES = len(sentence2frames)\n",
    "print(NUM_SENTENCES)\n",
    "\n",
    "# number of frames in this sentence\n",
    "print(len(sentence2frames['faem0_si1392']))\n",
    "\n",
    "# number of fbank+mfcc features in a frame\n",
    "print(len(sentence2frames['faem0_si1392'][0]))\n",
    "\n",
    "# first feature\n",
    "print(sentence2frames['faem0_si1392'][0][0])"
   ]
  },
  {
   "cell_type": "code",
   "execution_count": null,
   "metadata": {},
   "outputs": [],
   "source": [
    "sentence2labels = dict()\n",
    "read_label(DATA_PATH + 'label/train.lab', sentence2labels)\n",
    "\n",
    "# number of training sentences\n",
    "print(len(sentence2labels))\n",
    "\n",
    "# number of frames in this sentence\n",
    "print(len(sentence2labels['faem0_si1392']))\n",
    "\n",
    "# first label\n",
    "print(sentence2labels['faem0_si1392'][0])"
   ]
  },
  {
   "cell_type": "code",
   "execution_count": null,
   "metadata": {},
   "outputs": [],
   "source": [
    "sentences = sorted(sentence2labels)\n",
    "X = np.zeros((NUM_SENTENCES, MAX_SENTENCE_LEN, FEATURE_LEN))\n",
    "y = np.zeros((NUM_SENTENCES, MAX_SENTENCE_LEN, NUM_CLASSES))\n",
    "\n",
    "for i, s in enumerate(sentences):\n",
    "    frames = sentence2frames[s]\n",
    "    X[i, :len(frames)] = frames\n",
    "    y[i, :len(frames)] = np.stack([one_hot(NUM_CLASSES, l) for l in sentence2labels[s]])\n",
    "\n",
    "print(X.shape)\n",
    "print(y.shape)"
   ]
  },
  {
   "cell_type": "code",
   "execution_count": null,
   "metadata": {},
   "outputs": [],
   "source": [
    "model = build_model(summary=True)"
   ]
  },
  {
   "cell_type": "code",
   "execution_count": null,
   "metadata": {},
   "outputs": [],
   "source": [
    "monitor = 'loss'\n",
    "model_filepath = MODEL_PATH + 'model_{monitor}'.format(monitor=monitor) + '_{epoch:03d}_{loss:.4f}_mapafter_recurrent_dropout_0.1_2lstm.h5'\n",
    "checkpoint = ModelCheckpoint(model_filepath, monitor=monitor, verbose=0, save_best_only=True)\n",
    "earlystop = EarlyStopping(monitor=monitor, patience=2, verbose=0)\n",
    "model.fit(X, y, batch_size=BATCH_SIZE, epochs=NUM_EPOCHS, verbose=1, callbacks=[checkpoint])"
   ]
  },
  {
   "cell_type": "code",
   "execution_count": null,
   "metadata": {},
   "outputs": [],
   "source": [
    "'''\n",
    "monitor = val_acc\n",
    "Epoch 36/200\n",
    "3326/3326 [==============================] - 77s - loss: 0.3140 - acc: 0.2903 - val_loss: 0.3337 - val_acc: 0.2845\n",
    "\n",
    "monitor = val_loss\n",
    "Epoch 23/500\n",
    "3326/3326 [==============================] - 172s - loss: 0.3495 - acc: 0.2870 - val_loss: 0.3622 - val_acc: 0.2925\n",
    "\n",
    "monitor = acc (no validation)\n",
    "Epoch 133/500\n",
    "3696/3696 [==============================] - 109s - loss: 0.2369 - acc: 0.3140\n",
    "'''"
   ]
  }
 ],
 "metadata": {
  "kernelspec": {
   "display_name": "Python 3",
   "language": "python",
   "name": "python3"
  },
  "language_info": {
   "codemirror_mode": {
    "name": "ipython",
    "version": 3
   },
   "file_extension": ".py",
   "mimetype": "text/x-python",
   "name": "python",
   "nbconvert_exporter": "python",
   "pygments_lexer": "ipython3",
   "version": "3.5.2"
  }
 },
 "nbformat": 4,
 "nbformat_minor": 2
}
